{
  "nbformat": 4,
  "nbformat_minor": 0,
  "metadata": {
    "colab": {
      "name": "preprocess.ipynb",
      "provenance": [],
      "collapsed_sections": []
    },
    "kernelspec": {
      "name": "python369jvsc74a57bd031f2aee4e71d21fbe5cf8b01ff0e069b9275f58929596ceb00d14d90e3e16cd6",
      "display_name": "Python 3.6.9 64-bit"
    },
    "language_info": {
      "name": "python",
      "version": "3.6.9-final"
    },
    "metadata": {
      "interpreter": {
        "hash": "31f2aee4e71d21fbe5cf8b01ff0e069b9275f58929596ceb00d14d90e3e16cd6"
      }
    }
  },
  "cells": [
    {
      "cell_type": "code",
      "metadata": {
        "id": "q1nE6iFlOqzl"
      },
      "source": [
        "import os\n",
        "from glob import glob\n",
        "from tqdm import tqdm\n",
        "import dlib\n",
        "import cv2\n",
        "import json\n",
        "from datetime import datetime\n",
        "from dateutil.tz import gettz\n",
        "from __init__ import PYTHON_PATH"
      ],
      "execution_count": 10,
      "outputs": []
    },
    {
      "cell_type": "code",
      "metadata": {
        "id": "9s0wA-gQrTRh"
      },
      "source": [
        "PREPROCESS = \"preprocess\"\n",
        "DATECREATED = \"datecreated\"\n",
        "STORAGE = \"./data\"\n",
        "META = \"./data/metadata.json\"\n",
        "RAW_PATH = os.path.join(STORAGE, \"raw/*/*\")\n",
        "PREPROCESS_LOOP_PATH = os.path.join(STORAGE, \"preprocess/*/*\")\n",
        "PREPROCESS_PATH = os.path.join(STORAGE, \"preprocess/\")"
      ],
      "execution_count": 3,
      "outputs": []
    },
    {
      "cell_type": "code",
      "execution_count": 4,
      "metadata": {},
      "outputs": [],
      "source": [
        "if os.path.exists(META):\n",
        "    with open(META) as json_file:\n",
        "        meta = json.load(json_file)\n",
        "        check_list = meta[PREPROCESS]\n",
        "else:\n",
        "    check_list = []"
      ]
    },
    {
      "cell_type": "code",
      "metadata": {
        "colab": {
          "base_uri": "https://localhost:8080/"
        },
        "id": "2O19AZ_8O8uv",
        "outputId": "a70c6f4f-2674-4b8a-ca40-342d70ef3455",
        "tags": []
      },
      "source": [
        "detector = dlib.get_frontal_face_detector()\n",
        "for img_raw in tqdm(glob(RAW_PATH)):\n",
        "  if img_raw not in check_list:\n",
        "    check_list.append(img_raw)\n",
        "    student = img_raw.split(\"/\")[3]\n",
        "    image_name = img_raw.split(\"/\")[4]\n",
        "    storage_path = os.path.join(PREPROCESS_PATH, student)\n",
        "    if not os.path.exists(storage_path):\n",
        "      os.mkdir(storage_path)\n",
        "    count = len(os.listdir(storage_path))\n",
        "    image = cv2.imread(img_raw)\n",
        "    try:\n",
        "      dets = detector(image)\n",
        "      if dets:\n",
        "        cv2.imwrite(os.path.join(storage_path, f\"{str(count)}.jpg\"),image)  \n",
        "    except:\n",
        "      print(\"SKIP\")\n",
        "    "
      ],
      "execution_count": 5,
      "outputs": [
        {
          "output_type": "stream",
          "name": "stderr",
          "text": [
            "100%|██████████| 4509/4509 [02:28<00:00, 30.42it/s]\n"
          ]
        }
      ]
    },
    {
      "cell_type": "code",
      "metadata": {
        "colab": {
          "base_uri": "https://localhost:8080/"
        },
        "id": "AjGWqG3hL_6o",
        "outputId": "c5bd9790-a710-402b-8a32-2522fb9ce103"
      },
      "source": [
        "preprocess = glob(PREPROCESS_LOOP_PATH)\n",
        "print(len(preprocess))"
      ],
      "execution_count": 7,
      "outputs": [
        {
          "output_type": "stream",
          "name": "stdout",
          "text": [
            "4503\n"
          ]
        }
      ]
    },
    {
      "cell_type": "code",
      "metadata": {
        "id": "_gmaYII1ydhH"
      },
      "source": [
        " meta = {}\n",
        " meta[PREPROCESS] = check_list\n",
        " meta[DATECREATED] = str(datetime.now(gettz(\"Asia/Ho_Chi_Minh\")).strftime(\"%Y-%m-%d %H:%M:%S\"))\n",
        " with open(META, 'w') as outfile:\n",
        "    json.dump(meta, outfile)"
      ],
      "execution_count": 11,
      "outputs": []
    },
    {
      "cell_type": "code",
      "execution_count": null,
      "metadata": {},
      "outputs": [],
      "source": []
    }
  ]
}