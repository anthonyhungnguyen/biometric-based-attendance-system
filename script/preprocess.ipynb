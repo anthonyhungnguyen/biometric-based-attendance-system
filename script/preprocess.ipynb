{
  "nbformat": 4,
  "nbformat_minor": 0,
  "metadata": {
    "colab": {
      "name": "preprocess.ipynb",
      "provenance": [],
      "collapsed_sections": []
    },
    "kernelspec": {
      "name": "python3",
      "display_name": "Python 3"
    },
    "language_info": {
      "name": "python"
    }
  },
  "cells": [
    {
      "cell_type": "code",
      "metadata": {
        "colab": {
          "base_uri": "https://localhost:8080/"
        },
        "id": "8LP7rgXONzD8",
        "outputId": "8aedb3e7-3e27-41ef-f745-24ed153389db"
      },
      "source": [
        "from google.colab import drive\n",
        "drive.mount('/content/drive')"
      ],
      "execution_count": null,
      "outputs": [
        {
          "output_type": "stream",
          "text": [
            "Drive already mounted at /content/drive; to attempt to forcibly remount, call drive.mount(\"/content/drive\", force_remount=True).\n"
          ],
          "name": "stdout"
        }
      ]
    },
    {
      "cell_type": "code",
      "metadata": {
        "id": "pq5avFXjN8lq"
      },
      "source": [
        "!cp -r \"/content/drive/MyDrive/BK inno/SVBK201/raw\" \"./\""
      ],
      "execution_count": null,
      "outputs": []
    },
    {
      "cell_type": "code",
      "metadata": {
        "id": "q1nE6iFlOqzl"
      },
      "source": [
        "import os\n",
        "from glob import glob\n",
        "from tqdm import tqdm"
      ],
      "execution_count": null,
      "outputs": []
    },
    {
      "cell_type": "code",
      "metadata": {
        "id": "9s0wA-gQrTRh"
      },
      "source": [
        "check_list = []"
      ],
      "execution_count": null,
      "outputs": []
    },
    {
      "cell_type": "code",
      "metadata": {
        "colab": {
          "base_uri": "https://localhost:8080/"
        },
        "id": "2O19AZ_8O8uv",
        "outputId": "a70c6f4f-2674-4b8a-ca40-342d70ef3455"
      },
      "source": [
        "detector = dlib.get_frontal_face_detector()\n",
        "for img_raw in tqdm(glob(\"./raw/*/*\")):\n",
        "  if img_raw not in check_list:\n",
        "    check_list.append(img_raw)\n",
        "    student = img_raw.split(\"/\")[2]\n",
        "    image_name = img_raw.split(\"/\")[3]\n",
        "    storage_path = os.path.join(\"./preprocess\", student)\n",
        "    if not os.path.exists(storage_path):\n",
        "      os.mkdir(storage_path)\n",
        "    count = len(os.listdir(storage_path))\n",
        "    image = cv2.imread(img_raw)\n",
        "    try:\n",
        "      dets = detector(image)\n",
        "      if dets:\n",
        "        cv2.imwrite(os.path.join(storage_path, f\"{str(count)}.jpg\"),image)  \n",
        "    except:\n",
        "      print(\"SKIP\")\n",
        "    "
      ],
      "execution_count": null,
      "outputs": [
        {
          "output_type": "stream",
          "text": [
            "\n",
            "\n",
            "\n",
            "\n",
            "\n",
            "\n",
            "  0%|          | 0/4507 [00:00<?, ?it/s]\u001b[A\u001b[A\u001b[A\u001b[A\u001b[A\u001b[A\n",
            "\n",
            "\n",
            "\n",
            "\n",
            "\n",
            " 66%|██████▌   | 2982/4507 [00:00<00:00, 29818.61it/s]\u001b[A\u001b[A\u001b[A\u001b[A\u001b[A\u001b[A\n",
            "\n",
            "\n",
            "\n",
            "\n",
            "\n",
            "100%|██████████| 4507/4507 [00:00<00:00, 17850.34it/s]\n"
          ],
          "name": "stderr"
        }
      ]
    },
    {
      "cell_type": "code",
      "metadata": {
        "id": "eeXFnu4_bIw7"
      },
      "source": [
        " !cp -r \"./preprocess\" \"/content/drive/MyDrive/BK inno/SVBK201/\""
      ],
      "execution_count": null,
      "outputs": []
    },
    {
      "cell_type": "code",
      "metadata": {
        "colab": {
          "base_uri": "https://localhost:8080/"
        },
        "id": "AjGWqG3hL_6o",
        "outputId": "c5bd9790-a710-402b-8a32-2522fb9ce103"
      },
      "source": [
        "preprocess = glob(\"./preprocess/*/*\")\n",
        "print(len(preprocess))"
      ],
      "execution_count": null,
      "outputs": [
        {
          "output_type": "stream",
          "text": [
            "4481\n"
          ],
          "name": "stdout"
        }
      ]
    },
    {
      "cell_type": "code",
      "metadata": {
        "id": "_gmaYII1ydhH"
      },
      "source": [
        " "
      ],
      "execution_count": null,
      "outputs": []
    }
  ]
}